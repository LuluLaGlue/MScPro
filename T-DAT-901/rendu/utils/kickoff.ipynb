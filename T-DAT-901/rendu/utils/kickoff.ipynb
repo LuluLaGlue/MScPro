{
 "cells": [
  {
   "cell_type": "markdown",
   "metadata": {},
   "source": [
    "# Data Exploration\n",
    "#### This file contains a summary of the data exploration and visualization used in the T-DAT project"
   ]
  },
  {
   "cell_type": "code",
   "execution_count": 1,
   "metadata": {},
   "outputs": [],
   "source": [
    "import pandas as pd\n",
    "import numpy as np"
   ]
  },
  {
   "cell_type": "markdown",
   "metadata": {},
   "source": [
    "### Import data from .csv file"
   ]
  },
  {
   "cell_type": "code",
   "execution_count": 2,
   "metadata": {},
   "outputs": [
    {
     "data": {
      "text/html": [
       "<div>\n",
       "<style scoped>\n",
       "    .dataframe tbody tr th:only-of-type {\n",
       "        vertical-align: middle;\n",
       "    }\n",
       "\n",
       "    .dataframe tbody tr th {\n",
       "        vertical-align: top;\n",
       "    }\n",
       "\n",
       "    .dataframe thead th {\n",
       "        text-align: right;\n",
       "    }\n",
       "</style>\n",
       "<table border=\"1\" class=\"dataframe\">\n",
       "  <thead>\n",
       "    <tr style=\"text-align: right;\">\n",
       "      <th></th>\n",
       "      <th>TICKET_ID</th>\n",
       "      <th>MOIS_VENTE</th>\n",
       "      <th>PRIX_NET</th>\n",
       "      <th>FAMILLE</th>\n",
       "      <th>UNIVERS</th>\n",
       "      <th>MAILLE</th>\n",
       "      <th>LIBELLE</th>\n",
       "      <th>CLI_ID</th>\n",
       "    </tr>\n",
       "  </thead>\n",
       "  <tbody>\n",
       "    <tr>\n",
       "      <th>0</th>\n",
       "      <td>35592159</td>\n",
       "      <td>10</td>\n",
       "      <td>1.67</td>\n",
       "      <td>HYGIENE</td>\n",
       "      <td>HYG_DOUCHE JARDINMONDE</td>\n",
       "      <td>HYG_JDM</td>\n",
       "      <td>GD JDM4 PAMPLEMOUSSE FL 200ML</td>\n",
       "      <td>1490281</td>\n",
       "    </tr>\n",
       "    <tr>\n",
       "      <th>1</th>\n",
       "      <td>35592159</td>\n",
       "      <td>10</td>\n",
       "      <td>1.66</td>\n",
       "      <td>HYGIENE</td>\n",
       "      <td>HYG_DOUCHE JARDINMONDE</td>\n",
       "      <td>HYG_JDM</td>\n",
       "      <td>GD JDM4 PAMPLEMOUSSE FL 200ML</td>\n",
       "      <td>1490281</td>\n",
       "    </tr>\n",
       "    <tr>\n",
       "      <th>2</th>\n",
       "      <td>35592159</td>\n",
       "      <td>10</td>\n",
       "      <td>7.45</td>\n",
       "      <td>SOINS DU VISAGE</td>\n",
       "      <td>VIS_CJOUR Jeunes Specifique</td>\n",
       "      <td>VIS_JEUNE_ET_LEVRE</td>\n",
       "      <td>CR JR PARF BIO.SPE AC.SENT.50ML</td>\n",
       "      <td>1490281</td>\n",
       "    </tr>\n",
       "    <tr>\n",
       "      <th>3</th>\n",
       "      <td>35592159</td>\n",
       "      <td>10</td>\n",
       "      <td>5.95</td>\n",
       "      <td>SOINS DU VISAGE</td>\n",
       "      <td>VIS_DEMAQ AAAR</td>\n",
       "      <td>VIS_AAAR_DEMAQLOTION</td>\n",
       "      <td>EAU MICELLAIRE 3 THES FL200ML</td>\n",
       "      <td>1490281</td>\n",
       "    </tr>\n",
       "    <tr>\n",
       "      <th>4</th>\n",
       "      <td>35592159</td>\n",
       "      <td>10</td>\n",
       "      <td>1.67</td>\n",
       "      <td>HYGIENE</td>\n",
       "      <td>HYG_DOUCHE JARDINMONDE</td>\n",
       "      <td>HYG_JDM</td>\n",
       "      <td>GD JDM4 TIARE FL 200ML</td>\n",
       "      <td>1490281</td>\n",
       "    </tr>\n",
       "  </tbody>\n",
       "</table>\n",
       "</div>"
      ],
      "text/plain": [
       "   TICKET_ID  MOIS_VENTE  PRIX_NET          FAMILLE  \\\n",
       "0   35592159          10      1.67          HYGIENE   \n",
       "1   35592159          10      1.66          HYGIENE   \n",
       "2   35592159          10      7.45  SOINS DU VISAGE   \n",
       "3   35592159          10      5.95  SOINS DU VISAGE   \n",
       "4   35592159          10      1.67          HYGIENE   \n",
       "\n",
       "                       UNIVERS                MAILLE  \\\n",
       "0       HYG_DOUCHE JARDINMONDE               HYG_JDM   \n",
       "1       HYG_DOUCHE JARDINMONDE               HYG_JDM   \n",
       "2  VIS_CJOUR Jeunes Specifique    VIS_JEUNE_ET_LEVRE   \n",
       "3               VIS_DEMAQ AAAR  VIS_AAAR_DEMAQLOTION   \n",
       "4       HYG_DOUCHE JARDINMONDE               HYG_JDM   \n",
       "\n",
       "                           LIBELLE   CLI_ID  \n",
       "0    GD JDM4 PAMPLEMOUSSE FL 200ML  1490281  \n",
       "1    GD JDM4 PAMPLEMOUSSE FL 200ML  1490281  \n",
       "2  CR JR PARF BIO.SPE AC.SENT.50ML  1490281  \n",
       "3    EAU MICELLAIRE 3 THES FL200ML  1490281  \n",
       "4           GD JDM4 TIARE FL 200ML  1490281  "
      ]
     },
     "execution_count": 2,
     "metadata": {},
     "output_type": "execute_result"
    }
   ],
   "source": [
    "df = pd.read_csv(\"KaDo.csv\", sep=\",\")\n",
    "\n",
    "df.head()"
   ]
  },
  {
   "cell_type": "markdown",
   "metadata": {},
   "source": [
    "### Summarize all available items for sale"
   ]
  },
  {
   "cell_type": "code",
   "execution_count": 3,
   "metadata": {},
   "outputs": [
    {
     "data": {
      "text/html": [
       "<div>\n",
       "<style scoped>\n",
       "    .dataframe tbody tr th:only-of-type {\n",
       "        vertical-align: middle;\n",
       "    }\n",
       "\n",
       "    .dataframe tbody tr th {\n",
       "        vertical-align: top;\n",
       "    }\n",
       "\n",
       "    .dataframe thead th {\n",
       "        text-align: right;\n",
       "    }\n",
       "</style>\n",
       "<table border=\"1\" class=\"dataframe\">\n",
       "  <thead>\n",
       "    <tr style=\"text-align: right;\">\n",
       "      <th></th>\n",
       "      <th>LIBELLE</th>\n",
       "      <th>FAMILLE</th>\n",
       "      <th>MAILLE</th>\n",
       "      <th>UNIVERS</th>\n",
       "    </tr>\n",
       "  </thead>\n",
       "  <tbody>\n",
       "    <tr>\n",
       "      <th>18</th>\n",
       "      <td>LISSAGE AP SHAMPOING LISSANT 150ML SVC</td>\n",
       "      <td>CAPILLAIRES</td>\n",
       "      <td>CAPILLAIRE_AUTRE</td>\n",
       "      <td>CAP_AP SHAMP</td>\n",
       "    </tr>\n",
       "    <tr>\n",
       "      <th>183</th>\n",
       "      <td>SVC NUTRITION AP SH 150ML</td>\n",
       "      <td>CAPILLAIRES</td>\n",
       "      <td>CAPILLAIRE_AUTRE</td>\n",
       "      <td>CAP_AP SHAMP</td>\n",
       "    </tr>\n",
       "    <tr>\n",
       "      <th>368</th>\n",
       "      <td>SVC ECLAT COULEUR AP SH 150ML</td>\n",
       "      <td>CAPILLAIRES</td>\n",
       "      <td>CAPILLAIRE_AUTRE</td>\n",
       "      <td>CAP_AP SHAMP</td>\n",
       "    </tr>\n",
       "    <tr>\n",
       "      <th>671</th>\n",
       "      <td>APRES SHAMPOOING NUTRI BOUCLES 150ML</td>\n",
       "      <td>CAPILLAIRES</td>\n",
       "      <td>CAPILLAIRE_AUTRE</td>\n",
       "      <td>CAP_AP SHAMP</td>\n",
       "    </tr>\n",
       "    <tr>\n",
       "      <th>2013</th>\n",
       "      <td>SVC REPARATION AP SH 150 ML</td>\n",
       "      <td>CAPILLAIRES</td>\n",
       "      <td>CAPILLAIRE_AUTRE</td>\n",
       "      <td>CAP_AP SHAMP</td>\n",
       "    </tr>\n",
       "    <tr>\n",
       "      <th>180630</th>\n",
       "      <td>SVC AS NOURRISSANT T150ML</td>\n",
       "      <td>CAPILLAIRES</td>\n",
       "      <td>CAPILLAIRE_AUTRE</td>\n",
       "      <td>CAP_AP SHAMP</td>\n",
       "    </tr>\n",
       "    <tr>\n",
       "      <th>2640</th>\n",
       "      <td>EAU DEMELANTE 200ML</td>\n",
       "      <td>CAPILLAIRES</td>\n",
       "      <td>CAPILLAIRE_AUTRE</td>\n",
       "      <td>CAP_TENUE DE LA COIFFURE</td>\n",
       "    </tr>\n",
       "    <tr>\n",
       "      <th>3565</th>\n",
       "      <td>SPRAY VOLUME 200ML</td>\n",
       "      <td>CAPILLAIRES</td>\n",
       "      <td>CAPILLAIRE_AUTRE</td>\n",
       "      <td>CAP_TENUE DE LA COIFFURE</td>\n",
       "    </tr>\n",
       "    <tr>\n",
       "      <th>6193</th>\n",
       "      <td>SPRAY SCULPTANT 150ML</td>\n",
       "      <td>CAPILLAIRES</td>\n",
       "      <td>CAPILLAIRE_AUTRE</td>\n",
       "      <td>CAP_TENUE DE LA COIFFURE</td>\n",
       "    </tr>\n",
       "    <tr>\n",
       "      <th>16209</th>\n",
       "      <td>LISSAGE SERUM LACTE LISSANT 100 ML</td>\n",
       "      <td>CAPILLAIRES</td>\n",
       "      <td>CAPILLAIRE_AUTRE</td>\n",
       "      <td>CAP_TENUE DE LA COIFFURE</td>\n",
       "    </tr>\n",
       "  </tbody>\n",
       "</table>\n",
       "</div>"
      ],
      "text/plain": [
       "                                       LIBELLE      FAMILLE            MAILLE  \\\n",
       "18      LISSAGE AP SHAMPOING LISSANT 150ML SVC  CAPILLAIRES  CAPILLAIRE_AUTRE   \n",
       "183                  SVC NUTRITION AP SH 150ML  CAPILLAIRES  CAPILLAIRE_AUTRE   \n",
       "368              SVC ECLAT COULEUR AP SH 150ML  CAPILLAIRES  CAPILLAIRE_AUTRE   \n",
       "671       APRES SHAMPOOING NUTRI BOUCLES 150ML  CAPILLAIRES  CAPILLAIRE_AUTRE   \n",
       "2013               SVC REPARATION AP SH 150 ML  CAPILLAIRES  CAPILLAIRE_AUTRE   \n",
       "180630               SVC AS NOURRISSANT T150ML  CAPILLAIRES  CAPILLAIRE_AUTRE   \n",
       "2640                       EAU DEMELANTE 200ML  CAPILLAIRES  CAPILLAIRE_AUTRE   \n",
       "3565                        SPRAY VOLUME 200ML  CAPILLAIRES  CAPILLAIRE_AUTRE   \n",
       "6193                     SPRAY SCULPTANT 150ML  CAPILLAIRES  CAPILLAIRE_AUTRE   \n",
       "16209       LISSAGE SERUM LACTE LISSANT 100 ML  CAPILLAIRES  CAPILLAIRE_AUTRE   \n",
       "\n",
       "                         UNIVERS  \n",
       "18                  CAP_AP SHAMP  \n",
       "183                 CAP_AP SHAMP  \n",
       "368                 CAP_AP SHAMP  \n",
       "671                 CAP_AP SHAMP  \n",
       "2013                CAP_AP SHAMP  \n",
       "180630              CAP_AP SHAMP  \n",
       "2640    CAP_TENUE DE LA COIFFURE  \n",
       "3565    CAP_TENUE DE LA COIFFURE  \n",
       "6193    CAP_TENUE DE LA COIFFURE  \n",
       "16209   CAP_TENUE DE LA COIFFURE  "
      ]
     },
     "execution_count": 3,
     "metadata": {},
     "output_type": "execute_result"
    }
   ],
   "source": [
    "items = df[[\n",
    "    'LIBELLE', 'FAMILLE', 'MAILLE', 'UNIVERS'\n",
    "]].drop_duplicates().sort_values(by=['FAMILLE', 'MAILLE', 'UNIVERS'])\n",
    "items.reset_index()\n",
    "items['LIBELLE'] = items.LIBELLE.astype(str)\n",
    "\n",
    "items.head(10)"
   ]
  },
  {
   "cell_type": "markdown",
   "metadata": {},
   "source": [
    "### Display summary of all families, mailles and universes"
   ]
  },
  {
   "cell_type": "code",
   "execution_count": 4,
   "metadata": {},
   "outputs": [
    {
     "name": "stdout",
     "output_type": "stream",
     "text": [
      "Total number of items: 1484\n",
      "Total number of families: 9\n",
      "Total number of mailles: 34\n",
      "Total number of universes: 105\n"
     ]
    }
   ],
   "source": [
    "print(\"Total number of items: {}\".format(len(items[\"LIBELLE\"])))\n",
    "print(\"Total number of families: {}\".format(len(items[\"FAMILLE\"].unique())))\n",
    "print(\"Total number of mailles: {}\".format(len(items[\"MAILLE\"].unique())))\n",
    "print(\"Total number of universes: {}\".format(len(items[\"UNIVERS\"].unique())))"
   ]
  },
  {
   "cell_type": "code",
   "execution_count": 5,
   "metadata": {},
   "outputs": [
    {
     "name": "stdout",
     "output_type": "stream",
     "text": [
      "Number of items per:\n",
      "\n",
      "Familles:\n",
      "MAQUILLAGE         692\n",
      "HYGIENE            229\n",
      "SOINS DU VISAGE    216\n",
      "SOINS DU CORPS     143\n",
      "PARFUMAGE          121\n",
      "Name: FAMILLE, dtype: int64\n",
      "\n",
      "Mailles:\n",
      "MAQ_YEUX_MASCA_EYEL_FARD    181\n",
      "MAQ_TEINT                   138\n",
      "MAQ_ONGLES                  119\n",
      "MAQ_LEV_RAL_HMG             106\n",
      "VIS_JEUNE_ET_LEVRE          100\n",
      "Name: MAILLE, dtype: int64\n",
      "\n",
      "Univers:\n",
      "MAQ_YEUX Fard               145\n",
      "MAQ_TEINT Font teint         73\n",
      "MAQ_ONG Vernis LUM           67\n",
      "MAQ_YEUX Crayons             48\n",
      "PARF_PARF ET EAU DE PARF     47\n",
      "Name: UNIVERS, dtype: int64\n"
     ]
    }
   ],
   "source": [
    "famille_count = items[\"FAMILLE\"].value_counts()\n",
    "maille_count = items[\"MAILLE\"].value_counts()\n",
    "univers_count = items[\"UNIVERS\"].value_counts()\n",
    "\n",
    "print(\"Number of items per:\\n\")\n",
    "print(\"Familles:\\n{}\".format(famille_count[:5]))\n",
    "print(\"\\nMailles:\\n{}\".format(maille_count[:5]))\n",
    "print(\"\\nUnivers:\\n{}\".format(univers_count[:5]))"
   ]
  },
  {
   "cell_type": "markdown",
   "metadata": {},
   "source": [
    "## Most popular items for each category"
   ]
  },
  {
   "cell_type": "markdown",
   "metadata": {},
   "source": [
    "### FAMILLE"
   ]
  },
  {
   "cell_type": "code",
   "execution_count": 6,
   "metadata": {},
   "outputs": [
    {
     "data": {
      "text/html": [
       "<div>\n",
       "<style scoped>\n",
       "    .dataframe tbody tr th:only-of-type {\n",
       "        vertical-align: middle;\n",
       "    }\n",
       "\n",
       "    .dataframe tbody tr th {\n",
       "        vertical-align: top;\n",
       "    }\n",
       "\n",
       "    .dataframe thead th {\n",
       "        text-align: right;\n",
       "    }\n",
       "</style>\n",
       "<table border=\"1\" class=\"dataframe\">\n",
       "  <thead>\n",
       "    <tr style=\"text-align: right;\">\n",
       "      <th></th>\n",
       "      <th>LIBELLE</th>\n",
       "      <th>count</th>\n",
       "    </tr>\n",
       "    <tr>\n",
       "      <th>FAMILLE</th>\n",
       "      <th></th>\n",
       "      <th></th>\n",
       "    </tr>\n",
       "  </thead>\n",
       "  <tbody>\n",
       "    <tr>\n",
       "      <th>SOINS DU VISAGE</th>\n",
       "      <td>DEMAQ EXPRESS PUR BLEUET FL125ML</td>\n",
       "      <td>158762</td>\n",
       "    </tr>\n",
       "    <tr>\n",
       "      <th>HYGIENE</th>\n",
       "      <td>GD JDM4 LOTUS FL200ML</td>\n",
       "      <td>85914</td>\n",
       "    </tr>\n",
       "    <tr>\n",
       "      <th>SOINS DU CORPS</th>\n",
       "      <td>SVC CREME QUOTIDIENNE T75ml</td>\n",
       "      <td>72394</td>\n",
       "    </tr>\n",
       "    <tr>\n",
       "      <th>MAQUILLAGE</th>\n",
       "      <td>PORTE MINE NOIR 01 CN3 0.3G</td>\n",
       "      <td>63371</td>\n",
       "    </tr>\n",
       "    <tr>\n",
       "      <th>SOLAIRES</th>\n",
       "      <td>LAIT 3EN1 PROTECTYL AP SOL FL150</td>\n",
       "      <td>61617</td>\n",
       "    </tr>\n",
       "  </tbody>\n",
       "</table>\n",
       "</div>"
      ],
      "text/plain": [
       "                                          LIBELLE   count\n",
       "FAMILLE                                                  \n",
       "SOINS DU VISAGE  DEMAQ EXPRESS PUR BLEUET FL125ML  158762\n",
       "HYGIENE                     GD JDM4 LOTUS FL200ML   85914\n",
       "SOINS DU CORPS        SVC CREME QUOTIDIENNE T75ml   72394\n",
       "MAQUILLAGE            PORTE MINE NOIR 01 CN3 0.3G   63371\n",
       "SOLAIRES         LAIT 3EN1 PROTECTYL AP SOL FL150   61617"
      ]
     },
     "execution_count": 6,
     "metadata": {},
     "output_type": "execute_result"
    }
   ],
   "source": [
    "df_f = df[['LIBELLE', 'FAMILLE']]\n",
    "df_f = df_f.groupby(['FAMILLE',\n",
    "                     'LIBELLE']).size().reset_index(name=\"count\").sort_values(\n",
    "                         ['FAMILLE', 'count'], ascending=False)\n",
    "df_f = df_f.groupby('FAMILLE').nth(0).sort_values('count', ascending=False)\n",
    "\n",
    "df_f.head(5)\n"
   ]
  },
  {
   "cell_type": "markdown",
   "metadata": {},
   "source": [
    "### MAILLE"
   ]
  },
  {
   "cell_type": "code",
   "execution_count": 7,
   "metadata": {},
   "outputs": [
    {
     "data": {
      "text/html": [
       "<div>\n",
       "<style scoped>\n",
       "    .dataframe tbody tr th:only-of-type {\n",
       "        vertical-align: middle;\n",
       "    }\n",
       "\n",
       "    .dataframe tbody tr th {\n",
       "        vertical-align: top;\n",
       "    }\n",
       "\n",
       "    .dataframe thead th {\n",
       "        text-align: right;\n",
       "    }\n",
       "</style>\n",
       "<table border=\"1\" class=\"dataframe\">\n",
       "  <thead>\n",
       "    <tr style=\"text-align: right;\">\n",
       "      <th></th>\n",
       "      <th>LIBELLE</th>\n",
       "      <th>count</th>\n",
       "    </tr>\n",
       "    <tr>\n",
       "      <th>MAILLE</th>\n",
       "      <th></th>\n",
       "      <th></th>\n",
       "    </tr>\n",
       "  </thead>\n",
       "  <tbody>\n",
       "    <tr>\n",
       "      <th>VIS_AUTRES</th>\n",
       "      <td>DEMAQ EXPRESS PUR BLEUET FL125ML</td>\n",
       "      <td>158762</td>\n",
       "    </tr>\n",
       "    <tr>\n",
       "      <th>HYG_JDM</th>\n",
       "      <td>GD JDM4 LOTUS FL200ML</td>\n",
       "      <td>85914</td>\n",
       "    </tr>\n",
       "    <tr>\n",
       "      <th>CORPS_HYDRA_NOURRI_ET_SOINS</th>\n",
       "      <td>SVC CREME QUOTIDIENNE T75ml</td>\n",
       "      <td>72394</td>\n",
       "    </tr>\n",
       "    <tr>\n",
       "      <th>HYG_MONOI_ET_EDIT_SPEC</th>\n",
       "      <td>MDT SD DES LAGONS 150 ML</td>\n",
       "      <td>64400</td>\n",
       "    </tr>\n",
       "    <tr>\n",
       "      <th>MAQ_YEUX_CLASSIQUE</th>\n",
       "      <td>PORTE MINE NOIR 01 CN3 0.3G</td>\n",
       "      <td>63371</td>\n",
       "    </tr>\n",
       "  </tbody>\n",
       "</table>\n",
       "</div>"
      ],
      "text/plain": [
       "                                                      LIBELLE   count\n",
       "MAILLE                                                               \n",
       "VIS_AUTRES                   DEMAQ EXPRESS PUR BLEUET FL125ML  158762\n",
       "HYG_JDM                                 GD JDM4 LOTUS FL200ML   85914\n",
       "CORPS_HYDRA_NOURRI_ET_SOINS       SVC CREME QUOTIDIENNE T75ml   72394\n",
       "HYG_MONOI_ET_EDIT_SPEC               MDT SD DES LAGONS 150 ML   64400\n",
       "MAQ_YEUX_CLASSIQUE                PORTE MINE NOIR 01 CN3 0.3G   63371"
      ]
     },
     "execution_count": 7,
     "metadata": {},
     "output_type": "execute_result"
    }
   ],
   "source": [
    "df_m = df[['LIBELLE', 'MAILLE']]\n",
    "df_m = df_m.groupby(['LIBELLE',\n",
    "                     'MAILLE']).size().reset_index(name=\"count\").sort_values(\n",
    "                         ['MAILLE', 'count'], ascending=False)\n",
    "df_m = df_m.groupby('MAILLE').nth(0).sort_values('count', ascending=False)\n",
    "\n",
    "df_m.head(5)"
   ]
  },
  {
   "cell_type": "markdown",
   "metadata": {},
   "source": [
    "### UNIVERS"
   ]
  },
  {
   "cell_type": "code",
   "execution_count": 8,
   "metadata": {},
   "outputs": [
    {
     "data": {
      "text/html": [
       "<div>\n",
       "<style scoped>\n",
       "    .dataframe tbody tr th:only-of-type {\n",
       "        vertical-align: middle;\n",
       "    }\n",
       "\n",
       "    .dataframe tbody tr th {\n",
       "        vertical-align: top;\n",
       "    }\n",
       "\n",
       "    .dataframe thead th {\n",
       "        text-align: right;\n",
       "    }\n",
       "</style>\n",
       "<table border=\"1\" class=\"dataframe\">\n",
       "  <thead>\n",
       "    <tr style=\"text-align: right;\">\n",
       "      <th></th>\n",
       "      <th>LIBELLE</th>\n",
       "      <th>count</th>\n",
       "    </tr>\n",
       "    <tr>\n",
       "      <th>UNIVERS</th>\n",
       "      <th></th>\n",
       "      <th></th>\n",
       "    </tr>\n",
       "  </thead>\n",
       "  <tbody>\n",
       "    <tr>\n",
       "      <th>VIS_DEMAQ BLEUET</th>\n",
       "      <td>DEMAQ EXPRESS PUR BLEUET FL125ML</td>\n",
       "      <td>158762</td>\n",
       "    </tr>\n",
       "    <tr>\n",
       "      <th>HYG_DOUCHE JARDINMONDE</th>\n",
       "      <td>GD JDM4 LOTUS FL200ML</td>\n",
       "      <td>85914</td>\n",
       "    </tr>\n",
       "    <tr>\n",
       "      <th>CORPS_SOIN DES MAINS</th>\n",
       "      <td>SVC CREME QUOTIDIENNE T75ml</td>\n",
       "      <td>72394</td>\n",
       "    </tr>\n",
       "    <tr>\n",
       "      <th>HYG_DOUCHE MONOI</th>\n",
       "      <td>MDT SD DES LAGONS 150 ML</td>\n",
       "      <td>64400</td>\n",
       "    </tr>\n",
       "    <tr>\n",
       "      <th>CORPS_HYDRA NOURRISANT</th>\n",
       "      <td>SVC REP LAIT REP T150ML</td>\n",
       "      <td>63864</td>\n",
       "    </tr>\n",
       "  </tbody>\n",
       "</table>\n",
       "</div>"
      ],
      "text/plain": [
       "                                                 LIBELLE   count\n",
       "UNIVERS                                                         \n",
       "VIS_DEMAQ BLEUET        DEMAQ EXPRESS PUR BLEUET FL125ML  158762\n",
       "HYG_DOUCHE JARDINMONDE             GD JDM4 LOTUS FL200ML   85914\n",
       "CORPS_SOIN DES MAINS         SVC CREME QUOTIDIENNE T75ml   72394\n",
       "HYG_DOUCHE MONOI                MDT SD DES LAGONS 150 ML   64400\n",
       "CORPS_HYDRA NOURRISANT           SVC REP LAIT REP T150ML   63864"
      ]
     },
     "execution_count": 8,
     "metadata": {},
     "output_type": "execute_result"
    }
   ],
   "source": [
    "df_u = df[['LIBELLE', 'UNIVERS']]\n",
    "df_u = df_u.groupby(['LIBELLE',\n",
    "                     'UNIVERS']).size().reset_index(name=\"count\").sort_values(\n",
    "                         ['UNIVERS', 'count'], ascending=False)\n",
    "df_u = df_u.groupby('UNIVERS').nth(0).sort_values('count', ascending=False)\n",
    "\n",
    "df_u.head(5)"
   ]
  },
  {
   "cell_type": "markdown",
   "metadata": {},
   "source": [
    "## Mean Prices per category"
   ]
  },
  {
   "cell_type": "markdown",
   "metadata": {},
   "source": [
    "### FAMILLE"
   ]
  },
  {
   "cell_type": "code",
   "execution_count": 9,
   "metadata": {},
   "outputs": [
    {
     "data": {
      "text/plain": [
       "FAMILLE\n",
       "CAPILLAIRES        4.17\n",
       "HYGIENE            2.78\n",
       "MAQUILLAGE         6.62\n",
       "MULTI FAMILLES     4.53\n",
       "PARFUMAGE         13.48\n",
       "Name: PRIX_NET, dtype: float64"
      ]
     },
     "execution_count": 9,
     "metadata": {},
     "output_type": "execute_result"
    }
   ],
   "source": [
    "df_price_f = df[[\"PRIX_NET\", \"FAMILLE\"]]\n",
    "df_price_f = df_price_f.groupby(\n",
    "    [\"FAMILLE\"])[\"PRIX_NET\"].mean().apply(lambda x: np.round(x, 2))\n",
    "\n",
    "df_price_f.head()"
   ]
  },
  {
   "cell_type": "markdown",
   "metadata": {},
   "source": [
    "### MAILLE"
   ]
  },
  {
   "cell_type": "code",
   "execution_count": 10,
   "metadata": {},
   "outputs": [
    {
     "data": {
      "text/plain": [
       "MAILLE\n",
       "CAPILLAIRE_AUTRE               5.07\n",
       "CAPILLAIRE_SHAMPOING           3.70\n",
       "CORPS_HYDRA_NOURRI_ET_SOINS    4.73\n",
       "CORPS_HYDR_LAIT_HUILE          4.63\n",
       "CORPS_MONOI                    6.58\n",
       "Name: PRIX_NET, dtype: float64"
      ]
     },
     "execution_count": 10,
     "metadata": {},
     "output_type": "execute_result"
    }
   ],
   "source": [
    "df_price_m = df[[\"PRIX_NET\", \"MAILLE\"]]\n",
    "df_price_m = df_price_m.groupby([\"MAILLE\"])[\"PRIX_NET\"].mean().apply(lambda x: np.round(x, 2))\n",
    "\n",
    "df_price_m.head()"
   ]
  },
  {
   "cell_type": "markdown",
   "metadata": {},
   "source": [
    "### UNIVERS"
   ]
  },
  {
   "cell_type": "code",
   "execution_count": 11,
   "metadata": {},
   "outputs": [
    {
     "data": {
      "text/plain": [
       "UNIVERS\n",
       "HYG_BAIN SEL HUILE PERLE    1.18\n",
       "VIS_SOIN LEVRES             1.78\n",
       "MAQ_ONG Vernis LUM          1.83\n",
       "HYG_DOUCHE JARDINMONDE      1.90\n",
       "HYG_DOUCHE EDT ETE          2.03\n",
       "Name: PRIX_NET, dtype: float64"
      ]
     },
     "execution_count": 11,
     "metadata": {},
     "output_type": "execute_result"
    }
   ],
   "source": [
    "df_price_u = df[[\"PRIX_NET\", \"UNIVERS\"]]\n",
    "df_price_u = df_price_u.groupby(\n",
    "    [\"UNIVERS\"])[\"PRIX_NET\"].mean().apply(lambda x: np.round(x, 2)).sort_values()\n",
    "\n",
    "df_price_u.head()"
   ]
  },
  {
   "cell_type": "markdown",
   "metadata": {},
   "source": [
    "## Per Client"
   ]
  },
  {
   "cell_type": "markdown",
   "metadata": {},
   "source": [
    "### MEAN"
   ]
  },
  {
   "cell_type": "code",
   "execution_count": 12,
   "metadata": {},
   "outputs": [
    {
     "data": {
      "text/plain": [
       "CLI_ID\n",
       "990122959    871.50\n",
       "991984851    450.00\n",
       "989882490    333.98\n",
       "994072152    306.00\n",
       "996143282    280.58\n",
       "Name: PRIX_NET, dtype: float64"
      ]
     },
     "execution_count": 12,
     "metadata": {},
     "output_type": "execute_result"
    }
   ],
   "source": [
    "df_price_c = df[[\"PRIX_NET\", \"CLI_ID\"]]\n",
    "df_price_c = df_price_c.groupby(\n",
    "    [\"CLI_ID\"])[\"PRIX_NET\"].mean().apply(lambda x: np.round(x, 2)).sort_values(\n",
    "        ascending=False)\n",
    "\n",
    "df_price_c.head()"
   ]
  },
  {
   "cell_type": "markdown",
   "metadata": {},
   "source": [
    "### STD"
   ]
  },
  {
   "cell_type": "code",
   "execution_count": 13,
   "metadata": {},
   "outputs": [
    {
     "data": {
      "text/plain": [
       "CLI_ID\n",
       "989882490    575.92\n",
       "990122959    539.78\n",
       "996143282    241.72\n",
       "996222581    238.84\n",
       "996574684    196.29\n",
       "Name: PRIX_NET, dtype: float64"
      ]
     },
     "execution_count": 13,
     "metadata": {},
     "output_type": "execute_result"
    }
   ],
   "source": [
    "df_price_std = df[[\"PRIX_NET\", \"CLI_ID\"]]\n",
    "df_price_std = df_price_std.groupby(\n",
    "    [\"CLI_ID\"])[\"PRIX_NET\"].std().apply(lambda x: np.round(x, 2)).sort_values(ascending=False)\n",
    "\n",
    "df_price_std.head()"
   ]
  },
  {
   "cell_type": "markdown",
   "metadata": {},
   "source": [
    "## Per Ticket"
   ]
  },
  {
   "cell_type": "markdown",
   "metadata": {},
   "source": [
    "### Mean Spent"
   ]
  },
  {
   "cell_type": "code",
   "execution_count": 14,
   "metadata": {},
   "outputs": [
    {
     "data": {
      "text/plain": [
       "TICKET_ID\n",
       "35517898    930.8\n",
       "33107984    871.5\n",
       "34932826    780.0\n",
       "35551480    500.0\n",
       "35103455    450.0\n",
       "Name: PRIX_NET, dtype: float64"
      ]
     },
     "execution_count": 14,
     "metadata": {},
     "output_type": "execute_result"
    }
   ],
   "source": [
    "df_price_mean = df[[\"PRIX_NET\", \"TICKET_ID\"]]\n",
    "df_price_mean = df_price_mean.groupby(\n",
    "    [\"TICKET_ID\"])[\"PRIX_NET\"].mean().apply(lambda x: np.round(x, 2)).sort_values(ascending=False)\n",
    "df_price_mean.head()"
   ]
  },
  {
   "cell_type": "markdown",
   "metadata": {},
   "source": [
    "### Number of items"
   ]
  },
  {
   "cell_type": "code",
   "execution_count": 27,
   "metadata": {},
   "outputs": [
    {
     "data": {
      "text/html": [
       "<div>\n",
       "<style scoped>\n",
       "    .dataframe tbody tr th:only-of-type {\n",
       "        vertical-align: middle;\n",
       "    }\n",
       "\n",
       "    .dataframe tbody tr th {\n",
       "        vertical-align: top;\n",
       "    }\n",
       "\n",
       "    .dataframe thead th {\n",
       "        text-align: right;\n",
       "    }\n",
       "</style>\n",
       "<table border=\"1\" class=\"dataframe\">\n",
       "  <thead>\n",
       "    <tr style=\"text-align: right;\">\n",
       "      <th></th>\n",
       "      <th>TICKET_ID</th>\n",
       "      <th>count</th>\n",
       "    </tr>\n",
       "  </thead>\n",
       "  <tbody>\n",
       "    <tr>\n",
       "      <th>2573428</th>\n",
       "      <td>36298326</td>\n",
       "      <td>225</td>\n",
       "    </tr>\n",
       "    <tr>\n",
       "      <th>1231535</th>\n",
       "      <td>34537378</td>\n",
       "      <td>215</td>\n",
       "    </tr>\n",
       "    <tr>\n",
       "      <th>2465160</th>\n",
       "      <td>36156070</td>\n",
       "      <td>140</td>\n",
       "    </tr>\n",
       "    <tr>\n",
       "      <th>2538268</th>\n",
       "      <td>36251447</td>\n",
       "      <td>114</td>\n",
       "    </tr>\n",
       "    <tr>\n",
       "      <th>2006167</th>\n",
       "      <td>35564305</td>\n",
       "      <td>105</td>\n",
       "    </tr>\n",
       "  </tbody>\n",
       "</table>\n",
       "</div>"
      ],
      "text/plain": [
       "         TICKET_ID  count\n",
       "2573428   36298326    225\n",
       "1231535   34537378    215\n",
       "2465160   36156070    140\n",
       "2538268   36251447    114\n",
       "2006167   35564305    105"
      ]
     },
     "execution_count": 27,
     "metadata": {},
     "output_type": "execute_result"
    }
   ],
   "source": [
    "df_mean_ticket = df[['LIBELLE', 'TICKET_ID']]\n",
    "df_mean_ticket = df_mean_ticket.groupby(['TICKET_ID'\n",
    "                                         ]).size().reset_index(name=\"count\").sort_values(\"count\", ascending=False)\n",
    "\n",
    "df_mean_ticket.head(5)"
   ]
  },
  {
   "cell_type": "code",
   "execution_count": 26,
   "metadata": {},
   "outputs": [
    {
     "name": "stdout",
     "output_type": "stream",
     "text": [
      "Mean number of items per tickets: 2.65\n"
     ]
    }
   ],
   "source": [
    "mean_ticket = df_mean_ticket[\"count\"].mean()\n",
    "\n",
    "print(\"Mean number of items per tickets: {}\".format(np.round(mean_ticket, 2)))"
   ]
  }
 ],
 "metadata": {
  "interpreter": {
   "hash": "1fc3747583ed98976a9423fe1adf7bd00086cd437b259c8f82980a733c00eed5"
  },
  "kernelspec": {
   "display_name": "Python 3.9.7 64-bit ('venv': venv)",
   "language": "python",
   "name": "python3"
  },
  "language_info": {
   "codemirror_mode": {
    "name": "ipython",
    "version": 3
   },
   "file_extension": ".py",
   "mimetype": "text/x-python",
   "name": "python",
   "nbconvert_exporter": "python",
   "pygments_lexer": "ipython3",
   "version": "3.9.9"
  },
  "orig_nbformat": 4
 },
 "nbformat": 4,
 "nbformat_minor": 2
}
