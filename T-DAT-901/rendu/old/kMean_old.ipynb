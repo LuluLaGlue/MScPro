{
 "cells": [
  {
   "cell_type": "markdown",
   "metadata": {},
   "source": [
    "# KMeans"
   ]
  },
  {
   "cell_type": "code",
   "execution_count": 1,
   "metadata": {},
   "outputs": [],
   "source": [
    "from sklearn.cluster import KMeans\n",
    "import pandas as pd\n",
    "import pickle\n",
    "import os"
   ]
  },
  {
   "cell_type": "markdown",
   "metadata": {},
   "source": [
    "#### Import CSV"
   ]
  },
  {
   "cell_type": "code",
   "execution_count": 2,
   "metadata": {},
   "outputs": [
    {
     "data": {
      "text/html": [
       "<div>\n",
       "<style scoped>\n",
       "    .dataframe tbody tr th:only-of-type {\n",
       "        vertical-align: middle;\n",
       "    }\n",
       "\n",
       "    .dataframe tbody tr th {\n",
       "        vertical-align: top;\n",
       "    }\n",
       "\n",
       "    .dataframe thead th {\n",
       "        text-align: right;\n",
       "    }\n",
       "</style>\n",
       "<table border=\"1\" class=\"dataframe\">\n",
       "  <thead>\n",
       "    <tr style=\"text-align: right;\">\n",
       "      <th></th>\n",
       "      <th>TICKET_ID</th>\n",
       "      <th>MOIS_VENTE</th>\n",
       "      <th>PRIX_NET</th>\n",
       "      <th>FAMILLE</th>\n",
       "      <th>UNIVERS</th>\n",
       "      <th>MAILLE</th>\n",
       "      <th>LIBELLE</th>\n",
       "      <th>CLI_ID</th>\n",
       "    </tr>\n",
       "  </thead>\n",
       "  <tbody>\n",
       "    <tr>\n",
       "      <th>0</th>\n",
       "      <td>35592159</td>\n",
       "      <td>10</td>\n",
       "      <td>1.67</td>\n",
       "      <td>HYGIENE</td>\n",
       "      <td>HYG_DOUCHE JARDINMONDE</td>\n",
       "      <td>HYG_JDM</td>\n",
       "      <td>GD JDM4 PAMPLEMOUSSE FL 200ML</td>\n",
       "      <td>1490281</td>\n",
       "    </tr>\n",
       "    <tr>\n",
       "      <th>1</th>\n",
       "      <td>35592159</td>\n",
       "      <td>10</td>\n",
       "      <td>1.66</td>\n",
       "      <td>HYGIENE</td>\n",
       "      <td>HYG_DOUCHE JARDINMONDE</td>\n",
       "      <td>HYG_JDM</td>\n",
       "      <td>GD JDM4 PAMPLEMOUSSE FL 200ML</td>\n",
       "      <td>1490281</td>\n",
       "    </tr>\n",
       "    <tr>\n",
       "      <th>2</th>\n",
       "      <td>35592159</td>\n",
       "      <td>10</td>\n",
       "      <td>7.45</td>\n",
       "      <td>SOINS DU VISAGE</td>\n",
       "      <td>VIS_CJOUR Jeunes Specifique</td>\n",
       "      <td>VIS_JEUNE_ET_LEVRE</td>\n",
       "      <td>CR JR PARF BIO.SPE AC.SENT.50ML</td>\n",
       "      <td>1490281</td>\n",
       "    </tr>\n",
       "    <tr>\n",
       "      <th>3</th>\n",
       "      <td>35592159</td>\n",
       "      <td>10</td>\n",
       "      <td>5.95</td>\n",
       "      <td>SOINS DU VISAGE</td>\n",
       "      <td>VIS_DEMAQ AAAR</td>\n",
       "      <td>VIS_AAAR_DEMAQLOTION</td>\n",
       "      <td>EAU MICELLAIRE 3 THES FL200ML</td>\n",
       "      <td>1490281</td>\n",
       "    </tr>\n",
       "    <tr>\n",
       "      <th>4</th>\n",
       "      <td>35592159</td>\n",
       "      <td>10</td>\n",
       "      <td>1.67</td>\n",
       "      <td>HYGIENE</td>\n",
       "      <td>HYG_DOUCHE JARDINMONDE</td>\n",
       "      <td>HYG_JDM</td>\n",
       "      <td>GD JDM4 TIARE FL 200ML</td>\n",
       "      <td>1490281</td>\n",
       "    </tr>\n",
       "  </tbody>\n",
       "</table>\n",
       "</div>"
      ],
      "text/plain": [
       "   TICKET_ID  MOIS_VENTE  PRIX_NET          FAMILLE  \\\n",
       "0   35592159          10      1.67          HYGIENE   \n",
       "1   35592159          10      1.66          HYGIENE   \n",
       "2   35592159          10      7.45  SOINS DU VISAGE   \n",
       "3   35592159          10      5.95  SOINS DU VISAGE   \n",
       "4   35592159          10      1.67          HYGIENE   \n",
       "\n",
       "                       UNIVERS                MAILLE  \\\n",
       "0       HYG_DOUCHE JARDINMONDE               HYG_JDM   \n",
       "1       HYG_DOUCHE JARDINMONDE               HYG_JDM   \n",
       "2  VIS_CJOUR Jeunes Specifique    VIS_JEUNE_ET_LEVRE   \n",
       "3               VIS_DEMAQ AAAR  VIS_AAAR_DEMAQLOTION   \n",
       "4       HYG_DOUCHE JARDINMONDE               HYG_JDM   \n",
       "\n",
       "                           LIBELLE   CLI_ID  \n",
       "0    GD JDM4 PAMPLEMOUSSE FL 200ML  1490281  \n",
       "1    GD JDM4 PAMPLEMOUSSE FL 200ML  1490281  \n",
       "2  CR JR PARF BIO.SPE AC.SENT.50ML  1490281  \n",
       "3    EAU MICELLAIRE 3 THES FL200ML  1490281  \n",
       "4           GD JDM4 TIARE FL 200ML  1490281  "
      ]
     },
     "execution_count": 2,
     "metadata": {},
     "output_type": "execute_result"
    }
   ],
   "source": [
    "df = pd.read_csv(\"..{}data{}KaDo.csv\".format(os.sep, os.sep), sep=',')\n",
    "\n",
    "CATEGORIES = []\n",
    "\n",
    "CATEGORIES.extend(df[\"LIBELLE\"].unique().tolist())\n",
    "CATEGORIES.extend(df[\"FAMILLE\"].unique().tolist())\n",
    "CATEGORIES.extend(df[\"MAILLE\"].unique().tolist())\n",
    "CATEGORIES.extend(df[\"UNIVERS\"].unique().tolist())\n",
    "CATEGORIES.extend(df[\"TICKET_ID\"].unique().tolist())\n",
    "\n",
    "CATEGORIES = list(dict.fromkeys(CATEGORIES))\n",
    "\n",
    "df.head()"
   ]
  },
  {
   "cell_type": "markdown",
   "metadata": {},
   "source": [
    "#### Prepare DF"
   ]
  },
  {
   "cell_type": "code",
   "execution_count": 3,
   "metadata": {},
   "outputs": [
    {
     "data": {
      "text/html": [
       "<div>\n",
       "<style scoped>\n",
       "    .dataframe tbody tr th:only-of-type {\n",
       "        vertical-align: middle;\n",
       "    }\n",
       "\n",
       "    .dataframe tbody tr th {\n",
       "        vertical-align: top;\n",
       "    }\n",
       "\n",
       "    .dataframe thead th {\n",
       "        text-align: right;\n",
       "    }\n",
       "</style>\n",
       "<table border=\"1\" class=\"dataframe\">\n",
       "  <thead>\n",
       "    <tr style=\"text-align: right;\">\n",
       "      <th></th>\n",
       "      <th>TICKET_ID</th>\n",
       "      <th>MOIS_VENTE</th>\n",
       "      <th>PRIX_NET</th>\n",
       "      <th>FAMILLE</th>\n",
       "      <th>UNIVERS</th>\n",
       "      <th>MAILLE</th>\n",
       "      <th>LIBELLE</th>\n",
       "      <th>CLI_ID</th>\n",
       "    </tr>\n",
       "  </thead>\n",
       "  <tbody>\n",
       "    <tr>\n",
       "      <th>0</th>\n",
       "      <td>35592159</td>\n",
       "      <td>10</td>\n",
       "      <td>1.67</td>\n",
       "      <td>1484</td>\n",
       "      <td>1527</td>\n",
       "      <td>1493</td>\n",
       "      <td>0</td>\n",
       "      <td>1490281</td>\n",
       "    </tr>\n",
       "    <tr>\n",
       "      <th>1</th>\n",
       "      <td>35592159</td>\n",
       "      <td>10</td>\n",
       "      <td>1.66</td>\n",
       "      <td>1484</td>\n",
       "      <td>1527</td>\n",
       "      <td>1493</td>\n",
       "      <td>0</td>\n",
       "      <td>1490281</td>\n",
       "    </tr>\n",
       "    <tr>\n",
       "      <th>2</th>\n",
       "      <td>35592159</td>\n",
       "      <td>10</td>\n",
       "      <td>7.45</td>\n",
       "      <td>1485</td>\n",
       "      <td>1528</td>\n",
       "      <td>1494</td>\n",
       "      <td>1</td>\n",
       "      <td>1490281</td>\n",
       "    </tr>\n",
       "    <tr>\n",
       "      <th>3</th>\n",
       "      <td>35592159</td>\n",
       "      <td>10</td>\n",
       "      <td>5.95</td>\n",
       "      <td>1485</td>\n",
       "      <td>1529</td>\n",
       "      <td>1495</td>\n",
       "      <td>2</td>\n",
       "      <td>1490281</td>\n",
       "    </tr>\n",
       "    <tr>\n",
       "      <th>4</th>\n",
       "      <td>35592159</td>\n",
       "      <td>10</td>\n",
       "      <td>1.67</td>\n",
       "      <td>1484</td>\n",
       "      <td>1527</td>\n",
       "      <td>1493</td>\n",
       "      <td>3</td>\n",
       "      <td>1490281</td>\n",
       "    </tr>\n",
       "  </tbody>\n",
       "</table>\n",
       "</div>"
      ],
      "text/plain": [
       "   TICKET_ID  MOIS_VENTE  PRIX_NET  FAMILLE  UNIVERS  MAILLE  LIBELLE   CLI_ID\n",
       "0   35592159          10      1.67     1484     1527    1493        0  1490281\n",
       "1   35592159          10      1.66     1484     1527    1493        0  1490281\n",
       "2   35592159          10      7.45     1485     1528    1494        1  1490281\n",
       "3   35592159          10      5.95     1485     1529    1495        2  1490281\n",
       "4   35592159          10      1.67     1484     1527    1493        3  1490281"
      ]
     },
     "execution_count": 3,
     "metadata": {},
     "output_type": "execute_result"
    }
   ],
   "source": [
    "df_all = df.copy()\n",
    "\n",
    "df_all[\"FAMILLE\"] = pd.Categorical(df_all[\"FAMILLE\"],\n",
    "                                        categories=CATEGORIES)\n",
    "df_all[\"FAMILLE\"] = df_all[\"FAMILLE\"].cat.codes\n",
    "\n",
    "df_all[\"UNIVERS\"].cat = pd.Categorical(df_all[\"UNIVERS\"],\n",
    "                                            categories=CATEGORIES)\n",
    "df_all[\"UNIVERS\"] = df_all[\"UNIVERS\"].cat.codes\n",
    "\n",
    "df_all[\"MAILLE\"] = pd.Categorical(df_all[\"MAILLE\"],\n",
    "                                       categories=CATEGORIES)\n",
    "df_all[\"MAILLE\"] = df_all[\"MAILLE\"].cat.codes\n",
    "\n",
    "df_all[\"LIBELLE\"] = pd.Categorical(df_all[\"LIBELLE\"],\n",
    "                                        categories=CATEGORIES)\n",
    "df_all[\"LIBELLE\"] = df_all[\"LIBELLE\"].cat.codes\n",
    "\n",
    "df_all.head()"
   ]
  },
  {
   "cell_type": "markdown",
   "metadata": {},
   "source": [
    "#### Prepare DF by Products"
   ]
  },
  {
   "cell_type": "code",
   "execution_count": null,
   "metadata": {},
   "outputs": [],
   "source": [
    "df_products = df.copy()\n",
    "df_products = df_products[['LIBELLE', 'FAMILLE', 'MAILLE', 'UNIVERS', 'PRIX_NET']]\n",
    "\n",
    "df_products[\"FAMILLE\"] = pd.Categorical(df_products[\"FAMILLE\"],\n",
    "                                        categories=CATEGORIES)\n",
    "df_products[\"FAMILLE\"] = df_products[\"FAMILLE\"].cat.codes\n",
    "\n",
    "df_products[\"UNIVERS\"].cat = pd.Categorical(df_products[\"UNIVERS\"], categories=CATEGORIES)\n",
    "df_products[\"UNIVERS\"] = df_products[\"UNIVERS\"].cat.codes\n",
    "\n",
    "df_products[\"MAILLE\"] = pd.Categorical(df_products[\"MAILLE\"],\n",
    "                                       categories=CATEGORIES)\n",
    "df_products[\"MAILLE\"] = df_products[\"MAILLE\"].cat.codes\n",
    "\n",
    "df_products[\"LIBELLE\"] = pd.Categorical(df_products[\"LIBELLE\"],\n",
    "                                        categories=CATEGORIES)\n",
    "df_products[\"LIBELLE\"] = df_products[\"LIBELLE\"].cat.codes\n",
    "\n",
    "df_products.head()"
   ]
  },
  {
   "cell_type": "markdown",
   "metadata": {},
   "source": [
    "#### Prepare DF by Tickets"
   ]
  },
  {
   "cell_type": "code",
   "execution_count": null,
   "metadata": {},
   "outputs": [],
   "source": [
    "df_tickets = df.copy()\n",
    "df_tickets = df_tickets[['LIBELLE', 'FAMILLE', 'MAILLE', 'UNIVERS', 'TICKET_ID', 'PRIX_NET', 'MOIS_VENTE']]\n",
    "\n",
    "df_tickets[\"FAMILLE\"] = pd.Categorical(df_tickets[\"FAMILLE\"], categories=CATEGORIES)\n",
    "df_tickets[\"FAMILLE\"] = df_tickets[\"FAMILLE\"].cat.codes\n",
    "\n",
    "df_tickets[\"LIBELLE\"] = pd.Categorical(df_tickets[\"LIBELLE\"],\n",
    "                                       categories=CATEGORIES)\n",
    "df_tickets[\"LIBELLE\"] = df_tickets[\"LIBELLE\"].cat.codes\n",
    "\n",
    "df_tickets[\"MAILLE\"] = pd.Categorical(df_tickets[\"MAILLE\"],\n",
    "                                      categories=CATEGORIES)\n",
    "df_tickets[\"MAILLE\"] = df_tickets[\"MAILLE\"].cat.codes\n",
    "\n",
    "df_tickets[\"UNIVERS\"] = pd.Categorical(df_tickets[\"UNIVERS\"], categories=CATEGORIES)\n",
    "df_tickets[\"UNIVERS\"] = df_tickets[\"UNIVERS\"].cat.codes\n",
    "\n",
    "df_tickets.head()"
   ]
  },
  {
   "cell_type": "markdown",
   "metadata": {},
   "source": [
    "#### Train KMean"
   ]
  },
  {
   "cell_type": "code",
   "execution_count": 4,
   "metadata": {},
   "outputs": [
    {
     "data": {
      "text/plain": [
       "array([7, 7, 7, ..., 6, 6, 6])"
      ]
     },
     "execution_count": 4,
     "metadata": {},
     "output_type": "execute_result"
    }
   ],
   "source": [
    "kmeans = KMeans(n_clusters=10)\n",
    "\n",
    "# kmeans.fit(df_products)\n",
    "kmeans.fit(df_all)\n",
    "# kmeans.fit(df_tickets)\n",
    "\n",
    "kmeans.labels_"
   ]
  },
  {
   "cell_type": "markdown",
   "metadata": {},
   "source": [
    "#### Save Model"
   ]
  },
  {
   "cell_type": "code",
   "execution_count": 5,
   "metadata": {},
   "outputs": [],
   "source": [
    "# pickle.dump(kmeans, open(\"..{}models{}model_tickets.pkl\".format(os.sep, os.sep), \"wb\"))\n",
    "pickle.dump(kmeans, open(\"..{}models{}model_all.pkl\".format(os.sep, os.sep), \"wb\"))\n",
    "# pickle.dump(kmeans, open(\"..{}models{}model_products.pkl\".format(os.sep, os.sep), \"wb\"))"
   ]
  },
  {
   "cell_type": "markdown",
   "metadata": {},
   "source": [
    "# Testing KMean"
   ]
  },
  {
   "cell_type": "code",
   "execution_count": null,
   "metadata": {},
   "outputs": [],
   "source": [
    "from sklearn.cluster import KMeans\n",
    "import pandas as pd\n",
    "import pickle"
   ]
  },
  {
   "cell_type": "markdown",
   "metadata": {},
   "source": [
    "#### Import Data"
   ]
  },
  {
   "cell_type": "code",
   "execution_count": null,
   "metadata": {},
   "outputs": [],
   "source": [
    "df = pd.read_csv(\"..{}data{}KaDo.csv\".format(os.sep, os.sep), sep=\",\")\n",
    "\n",
    "CATEGORIES = []\n",
    "\n",
    "CATEGORIES.extend(df[\"LIBELLE\"].unique().tolist())\n",
    "CATEGORIES.extend(df[\"FAMILLE\"].unique().tolist())\n",
    "CATEGORIES.extend(df[\"MAILLE\"].unique().tolist())\n",
    "CATEGORIES.extend(df[\"UNIVERS\"].unique().tolist())\n",
    "CATEGORIES.extend(df[\"TICKET_ID\"].unique().tolist())\n",
    "\n",
    "CATEGORIES = list(dict.fromkeys(CATEGORIES))\n",
    "\n",
    "df.head()"
   ]
  },
  {
   "cell_type": "markdown",
   "metadata": {},
   "source": [
    "#### Format Data"
   ]
  },
  {
   "cell_type": "code",
   "execution_count": null,
   "metadata": {},
   "outputs": [],
   "source": [
    "df_products = df.copy()\n",
    "df_products = df_products[[\n",
    "    'LIBELLE', 'FAMILLE', 'MAILLE', 'UNIVERS', 'PRIX_NET'\n",
    "]]\n",
    "\n",
    "df_products[\"FAMILLE\"] = pd.Categorical(df_products[\"FAMILLE\"], categories=CATEGORIES)\n",
    "df_products[\"FAMILLE\"] = df_products[\"FAMILLE\"].cat.codes\n",
    "\n",
    "df_products[\"UNIVERS\"] = pd.Categorical(df_products[\"UNIVERS\"], categories=CATEGORIES)\n",
    "df_products[\"UNIVERS\"] = df_products[\"UNIVERS\"].cat.codes\n",
    "\n",
    "df_products[\"MAILLE\"] = pd.Categorical(df_products[\"MAILLE\"],\n",
    "                                       categories=CATEGORIES)\n",
    "df_products[\"MAILLE\"] = df_products[\"MAILLE\"].cat.codes\n",
    "\n",
    "df_products[\"LIBELLE\"] = pd.Categorical(df_products[\"LIBELLE\"],\n",
    "                                        categories=CATEGORIES)\n",
    "df_products[\"LIBELLE\"] = df_products[\"LIBELLE\"].cat.codes\n",
    "\n",
    "df_products.head()"
   ]
  },
  {
   "cell_type": "code",
   "execution_count": null,
   "metadata": {},
   "outputs": [],
   "source": [
    "df_tickets = df.copy()\n",
    "df_tickets = df_tickets[[\n",
    "    'LIBELLE', 'FAMILLE', 'MAILLE', 'UNIVERS', 'TICKET_ID', 'PRIX_NET',\n",
    "    'MOIS_VENTE'\n",
    "]]\n",
    "\n",
    "df_tickets[\"FAMILLE\"] = pd.Categorical(df_tickets[\"FAMILLE\"],\n",
    "                                        categories=CATEGORIES)\n",
    "df_tickets[\"FAMILLE\"] = df_tickets[\"FAMILLE\"].cat.codes\n",
    "\n",
    "df_tickets[\"UNIVERS\"] = pd.Categorical(df_tickets[\"UNIVERS\"],\n",
    "                                        categories=CATEGORIES)\n",
    "df_tickets[\"UNIVERS\"] = df_tickets[\"UNIVERS\"].cat.codes\n",
    "\n",
    "df_tickets[\"MAILLE\"] = pd.Categorical(df_tickets[\"MAILLE\"],\n",
    "                                       categories=CATEGORIES)\n",
    "df_tickets[\"MAILLE\"] = df_tickets[\"MAILLE\"].cat.codes\n",
    "\n",
    "df_tickets[\"LIBELLE\"] = pd.Categorical(df_tickets[\"LIBELLE\"],\n",
    "                                        categories=CATEGORIES)\n",
    "df_tickets[\"LIBELLE\"] = df_tickets[\"LIBELLE\"].cat.codes\n",
    "\n",
    "df_tickets.head()"
   ]
  },
  {
   "cell_type": "markdown",
   "metadata": {},
   "source": [
    "#### Import Model"
   ]
  },
  {
   "cell_type": "code",
   "execution_count": null,
   "metadata": {},
   "outputs": [],
   "source": [
    "model = pickle.load(open(\"..{}models{}model_tickets.pkl\".format(os.sep, os.sep), \"rb\"))\n",
    "\n",
    "model.labels_"
   ]
  },
  {
   "cell_type": "markdown",
   "metadata": {},
   "source": [
    "#### Predict"
   ]
  },
  {
   "cell_type": "code",
   "execution_count": null,
   "metadata": {},
   "outputs": [],
   "source": [
    "data = [df_tickets.iloc[500].tolist()]\n",
    "\n",
    "model.predict(data)[0]"
   ]
  },
  {
   "cell_type": "markdown",
   "metadata": {},
   "source": [
    "# Applying to Client"
   ]
  },
  {
   "cell_type": "code",
   "execution_count": 6,
   "metadata": {},
   "outputs": [],
   "source": [
    "from sklearn.cluster import KMeans\n",
    "import pandas as pd\n",
    "import numpy as np\n",
    "import pickle"
   ]
  },
  {
   "cell_type": "code",
   "execution_count": 7,
   "metadata": {},
   "outputs": [],
   "source": [
    "CLIENT_ID = 984943411"
   ]
  },
  {
   "cell_type": "code",
   "execution_count": 8,
   "metadata": {},
   "outputs": [
    {
     "data": {
      "text/html": [
       "<div>\n",
       "<style scoped>\n",
       "    .dataframe tbody tr th:only-of-type {\n",
       "        vertical-align: middle;\n",
       "    }\n",
       "\n",
       "    .dataframe tbody tr th {\n",
       "        vertical-align: top;\n",
       "    }\n",
       "\n",
       "    .dataframe thead th {\n",
       "        text-align: right;\n",
       "    }\n",
       "</style>\n",
       "<table border=\"1\" class=\"dataframe\">\n",
       "  <thead>\n",
       "    <tr style=\"text-align: right;\">\n",
       "      <th></th>\n",
       "      <th>TICKET_ID</th>\n",
       "      <th>MOIS_VENTE</th>\n",
       "      <th>PRIX_NET</th>\n",
       "      <th>FAMILLE</th>\n",
       "      <th>UNIVERS</th>\n",
       "      <th>MAILLE</th>\n",
       "      <th>LIBELLE</th>\n",
       "      <th>CLI_ID</th>\n",
       "    </tr>\n",
       "  </thead>\n",
       "  <tbody>\n",
       "    <tr>\n",
       "      <th>3643163</th>\n",
       "      <td>32991432</td>\n",
       "      <td>1</td>\n",
       "      <td>2.95</td>\n",
       "      <td>CAPILLAIRES</td>\n",
       "      <td>CAP_AP SHAMP</td>\n",
       "      <td>CAPILLAIRE_AUTRE</td>\n",
       "      <td>SVC ECLAT COULEUR AP SH 150ML</td>\n",
       "      <td>984943411</td>\n",
       "    </tr>\n",
       "    <tr>\n",
       "      <th>3643164</th>\n",
       "      <td>32991432</td>\n",
       "      <td>1</td>\n",
       "      <td>2.95</td>\n",
       "      <td>CAPILLAIRES</td>\n",
       "      <td>CAP_AP SHAMP</td>\n",
       "      <td>CAPILLAIRE_AUTRE</td>\n",
       "      <td>SVC ECLAT COULEUR AP SH 150ML</td>\n",
       "      <td>984943411</td>\n",
       "    </tr>\n",
       "    <tr>\n",
       "      <th>3643165</th>\n",
       "      <td>32991432</td>\n",
       "      <td>1</td>\n",
       "      <td>1.95</td>\n",
       "      <td>HYGIENE</td>\n",
       "      <td>HYG_DOUCHE FRAICHEUR VEG</td>\n",
       "      <td>HYG_AUTRES</td>\n",
       "      <td>GEL MOUSS THE VERT FV FL200 REF</td>\n",
       "      <td>984943411</td>\n",
       "    </tr>\n",
       "    <tr>\n",
       "      <th>3643166</th>\n",
       "      <td>32991432</td>\n",
       "      <td>1</td>\n",
       "      <td>17.50</td>\n",
       "      <td>PARFUMAGE</td>\n",
       "      <td>PARF_EAUX PARFUMS</td>\n",
       "      <td>PARF_PARFUM</td>\n",
       "      <td>EDT NATURELLE VAPO 75ML</td>\n",
       "      <td>984943411</td>\n",
       "    </tr>\n",
       "    <tr>\n",
       "      <th>3643167</th>\n",
       "      <td>32991432</td>\n",
       "      <td>1</td>\n",
       "      <td>1.95</td>\n",
       "      <td>HYGIENE</td>\n",
       "      <td>HYG_DOUCHE FRAICHEUR VEG</td>\n",
       "      <td>HYG_AUTRES</td>\n",
       "      <td>GEL MOUSS FL200 VERVEINE FV</td>\n",
       "      <td>984943411</td>\n",
       "    </tr>\n",
       "  </tbody>\n",
       "</table>\n",
       "</div>"
      ],
      "text/plain": [
       "         TICKET_ID  MOIS_VENTE  PRIX_NET      FAMILLE  \\\n",
       "3643163   32991432           1      2.95  CAPILLAIRES   \n",
       "3643164   32991432           1      2.95  CAPILLAIRES   \n",
       "3643165   32991432           1      1.95      HYGIENE   \n",
       "3643166   32991432           1     17.50    PARFUMAGE   \n",
       "3643167   32991432           1      1.95      HYGIENE   \n",
       "\n",
       "                          UNIVERS            MAILLE  \\\n",
       "3643163              CAP_AP SHAMP  CAPILLAIRE_AUTRE   \n",
       "3643164              CAP_AP SHAMP  CAPILLAIRE_AUTRE   \n",
       "3643165  HYG_DOUCHE FRAICHEUR VEG        HYG_AUTRES   \n",
       "3643166         PARF_EAUX PARFUMS       PARF_PARFUM   \n",
       "3643167  HYG_DOUCHE FRAICHEUR VEG        HYG_AUTRES   \n",
       "\n",
       "                                 LIBELLE     CLI_ID  \n",
       "3643163    SVC ECLAT COULEUR AP SH 150ML  984943411  \n",
       "3643164    SVC ECLAT COULEUR AP SH 150ML  984943411  \n",
       "3643165  GEL MOUSS THE VERT FV FL200 REF  984943411  \n",
       "3643166          EDT NATURELLE VAPO 75ML  984943411  \n",
       "3643167      GEL MOUSS FL200 VERVEINE FV  984943411  "
      ]
     },
     "execution_count": 8,
     "metadata": {},
     "output_type": "execute_result"
    }
   ],
   "source": [
    "df = pd.read_csv(\"..{}data{}KaDo.csv\".format(os.sep, os.sep), sep=',')\n",
    "df_all = df.copy()\n",
    "df = df[df[\"CLI_ID\"] == CLIENT_ID]\n",
    "\n",
    "CATEGORIES = []\n",
    "\n",
    "CATEGORIES.extend(df_all[\"LIBELLE\"].unique().tolist())\n",
    "CATEGORIES.extend(df_all[\"FAMILLE\"].unique().tolist())\n",
    "CATEGORIES.extend(df_all[\"MAILLE\"].unique().tolist())\n",
    "CATEGORIES.extend(df_all[\"UNIVERS\"].unique().tolist())\n",
    "CATEGORIES.extend(df_all[\"TICKET_ID\"].unique().tolist())\n",
    "\n",
    "CATEGORIES = list(dict.fromkeys(CATEGORIES))\n",
    "\n",
    "df.head()\n"
   ]
  },
  {
   "cell_type": "code",
   "execution_count": 9,
   "metadata": {},
   "outputs": [
    {
     "data": {
      "text/plain": [
       "205"
      ]
     },
     "execution_count": 9,
     "metadata": {},
     "output_type": "execute_result"
    }
   ],
   "source": [
    "df.shape[0]"
   ]
  },
  {
   "cell_type": "code",
   "execution_count": 10,
   "metadata": {},
   "outputs": [
    {
     "data": {
      "text/html": [
       "<div>\n",
       "<style scoped>\n",
       "    .dataframe tbody tr th:only-of-type {\n",
       "        vertical-align: middle;\n",
       "    }\n",
       "\n",
       "    .dataframe tbody tr th {\n",
       "        vertical-align: top;\n",
       "    }\n",
       "\n",
       "    .dataframe thead th {\n",
       "        text-align: right;\n",
       "    }\n",
       "</style>\n",
       "<table border=\"1\" class=\"dataframe\">\n",
       "  <thead>\n",
       "    <tr style=\"text-align: right;\">\n",
       "      <th></th>\n",
       "      <th>TICKET_ID</th>\n",
       "      <th>MOIS_VENTE</th>\n",
       "      <th>PRIX_NET</th>\n",
       "      <th>FAMILLE</th>\n",
       "      <th>UNIVERS</th>\n",
       "      <th>MAILLE</th>\n",
       "      <th>LIBELLE</th>\n",
       "      <th>CLI_ID</th>\n",
       "    </tr>\n",
       "  </thead>\n",
       "  <tbody>\n",
       "    <tr>\n",
       "      <th>3643163</th>\n",
       "      <td>32991432</td>\n",
       "      <td>1</td>\n",
       "      <td>2.95</td>\n",
       "      <td>1489</td>\n",
       "      <td>1536</td>\n",
       "      <td>1501</td>\n",
       "      <td>234</td>\n",
       "      <td>984943411</td>\n",
       "    </tr>\n",
       "    <tr>\n",
       "      <th>3643164</th>\n",
       "      <td>32991432</td>\n",
       "      <td>1</td>\n",
       "      <td>2.95</td>\n",
       "      <td>1489</td>\n",
       "      <td>1536</td>\n",
       "      <td>1501</td>\n",
       "      <td>234</td>\n",
       "      <td>984943411</td>\n",
       "    </tr>\n",
       "    <tr>\n",
       "      <th>3643165</th>\n",
       "      <td>32991432</td>\n",
       "      <td>1</td>\n",
       "      <td>1.95</td>\n",
       "      <td>1484</td>\n",
       "      <td>1597</td>\n",
       "      <td>1510</td>\n",
       "      <td>577</td>\n",
       "      <td>984943411</td>\n",
       "    </tr>\n",
       "    <tr>\n",
       "      <th>3643166</th>\n",
       "      <td>32991432</td>\n",
       "      <td>1</td>\n",
       "      <td>17.50</td>\n",
       "      <td>1486</td>\n",
       "      <td>1530</td>\n",
       "      <td>1496</td>\n",
       "      <td>884</td>\n",
       "      <td>984943411</td>\n",
       "    </tr>\n",
       "    <tr>\n",
       "      <th>3643167</th>\n",
       "      <td>32991432</td>\n",
       "      <td>1</td>\n",
       "      <td>1.95</td>\n",
       "      <td>1484</td>\n",
       "      <td>1597</td>\n",
       "      <td>1510</td>\n",
       "      <td>243</td>\n",
       "      <td>984943411</td>\n",
       "    </tr>\n",
       "  </tbody>\n",
       "</table>\n",
       "</div>"
      ],
      "text/plain": [
       "         TICKET_ID  MOIS_VENTE  PRIX_NET  FAMILLE  UNIVERS  MAILLE  LIBELLE  \\\n",
       "3643163   32991432           1      2.95     1489     1536    1501      234   \n",
       "3643164   32991432           1      2.95     1489     1536    1501      234   \n",
       "3643165   32991432           1      1.95     1484     1597    1510      577   \n",
       "3643166   32991432           1     17.50     1486     1530    1496      884   \n",
       "3643167   32991432           1      1.95     1484     1597    1510      243   \n",
       "\n",
       "            CLI_ID  \n",
       "3643163  984943411  \n",
       "3643164  984943411  \n",
       "3643165  984943411  \n",
       "3643166  984943411  \n",
       "3643167  984943411  "
      ]
     },
     "execution_count": 10,
     "metadata": {},
     "output_type": "execute_result"
    }
   ],
   "source": [
    "df[\"FAMILLE\"] = pd.Categorical(df[\"FAMILLE\"], categories=CATEGORIES)\n",
    "df[\"FAMILLE\"] = df[\"FAMILLE\"].cat.codes\n",
    "\n",
    "df[\"LIBELLE\"] = pd.Categorical(df[\"LIBELLE\"], categories=CATEGORIES)\n",
    "df[\"LIBELLE\"] = df[\"LIBELLE\"].cat.codes\n",
    "\n",
    "df[\"MAILLE\"] = pd.Categorical(df[\"MAILLE\"], categories=CATEGORIES)\n",
    "df[\"MAILLE\"] = df[\"MAILLE\"].cat.codes\n",
    "\n",
    "df[\"UNIVERS\"] = pd.Categorical(df[\"UNIVERS\"], categories=CATEGORIES)\n",
    "df[\"UNIVERS\"] = df[\"UNIVERS\"].cat.codes\n",
    "\n",
    "df.head()"
   ]
  },
  {
   "cell_type": "code",
   "execution_count": 11,
   "metadata": {},
   "outputs": [
    {
     "data": {
      "text/plain": [
       "array([7, 7, 7, ..., 6, 6, 6])"
      ]
     },
     "execution_count": 11,
     "metadata": {},
     "output_type": "execute_result"
    }
   ],
   "source": [
    "model = pickle.load(open(\"..{}models{}model_all.pkl\".format(os.sep, os.sep), \"rb\"))\n",
    "\n",
    "model.labels_"
   ]
  },
  {
   "cell_type": "markdown",
   "metadata": {},
   "source": [
    "#### Attach Client to Cluster"
   ]
  },
  {
   "cell_type": "code",
   "execution_count": 12,
   "metadata": {},
   "outputs": [
    {
     "data": {
      "text/plain": [
       "1"
      ]
     },
     "execution_count": 12,
     "metadata": {},
     "output_type": "execute_result"
    }
   ],
   "source": [
    "distance = model.transform(df)\n",
    "distance = [sum(elts) for elts in zip(*distance)]\n",
    "\n",
    "min_value = min(distance)\n",
    "\n",
    "client_cluster = distance.index(min_value)\n",
    "\n",
    "client_cluster"
   ]
  },
  {
   "cell_type": "markdown",
   "metadata": {},
   "source": [
    "#### Get products corresponding to clusters"
   ]
  },
  {
   "cell_type": "code",
   "execution_count": 13,
   "metadata": {},
   "outputs": [
    {
     "data": {
      "text/plain": [
       "array([3549092, 3549093, 3549094, ..., 5222894, 5222895, 5222896],\n",
       "      dtype=int64)"
      ]
     },
     "execution_count": 13,
     "metadata": {},
     "output_type": "execute_result"
    }
   ],
   "source": [
    "cluster = np.where(np.isin(model.labels_, client_cluster))[0]\n",
    "\n",
    "cluster"
   ]
  },
  {
   "cell_type": "code",
   "execution_count": 14,
   "metadata": {},
   "outputs": [
    {
     "data": {
      "text/html": [
       "<div>\n",
       "<style scoped>\n",
       "    .dataframe tbody tr th:only-of-type {\n",
       "        vertical-align: middle;\n",
       "    }\n",
       "\n",
       "    .dataframe tbody tr th {\n",
       "        vertical-align: top;\n",
       "    }\n",
       "\n",
       "    .dataframe thead th {\n",
       "        text-align: right;\n",
       "    }\n",
       "</style>\n",
       "<table border=\"1\" class=\"dataframe\">\n",
       "  <thead>\n",
       "    <tr style=\"text-align: right;\">\n",
       "      <th></th>\n",
       "      <th>TICKET_ID</th>\n",
       "      <th>MOIS_VENTE</th>\n",
       "      <th>PRIX_NET</th>\n",
       "      <th>FAMILLE</th>\n",
       "      <th>UNIVERS</th>\n",
       "      <th>MAILLE</th>\n",
       "      <th>LIBELLE</th>\n",
       "      <th>CLI_ID</th>\n",
       "    </tr>\n",
       "  </thead>\n",
       "  <tbody>\n",
       "    <tr>\n",
       "      <th>3549092</th>\n",
       "      <td>35221468</td>\n",
       "      <td>8</td>\n",
       "      <td>45.50</td>\n",
       "      <td>SOINS DU VISAGE</td>\n",
       "      <td>VIS_CNUIT AAAR</td>\n",
       "      <td>VIS_AAAR_HORS_DEMAQLOTION</td>\n",
       "      <td>REPACK AR BIEN NUIT RC2 P 50ml</td>\n",
       "      <td>981961119</td>\n",
       "    </tr>\n",
       "    <tr>\n",
       "      <th>3549093</th>\n",
       "      <td>33758611</td>\n",
       "      <td>4</td>\n",
       "      <td>1.66</td>\n",
       "      <td>SOINS DU VISAGE</td>\n",
       "      <td>VIS_SOIN LEVRES</td>\n",
       "      <td>VIS_JEUNE_ET_LEVRE</td>\n",
       "      <td>BAUME LEVR SENT FRAMBOISE 4G</td>\n",
       "      <td>984238969</td>\n",
       "    </tr>\n",
       "    <tr>\n",
       "      <th>3549094</th>\n",
       "      <td>33758611</td>\n",
       "      <td>4</td>\n",
       "      <td>1.67</td>\n",
       "      <td>SOINS DU VISAGE</td>\n",
       "      <td>VIS_SOIN LEVRES</td>\n",
       "      <td>VIS_JEUNE_ET_LEVRE</td>\n",
       "      <td>BAUME LEVR SENT FRAMBOISE 4G</td>\n",
       "      <td>984238969</td>\n",
       "    </tr>\n",
       "    <tr>\n",
       "      <th>3549095</th>\n",
       "      <td>33758611</td>\n",
       "      <td>4</td>\n",
       "      <td>2.50</td>\n",
       "      <td>SOINS DU VISAGE</td>\n",
       "      <td>VIS_SOIN LEVRES</td>\n",
       "      <td>VIS_JEUNE_ET_LEVRE</td>\n",
       "      <td>BAUME LEVR SENT FRAMBOISE 4G</td>\n",
       "      <td>984238969</td>\n",
       "    </tr>\n",
       "    <tr>\n",
       "      <th>3549096</th>\n",
       "      <td>33758611</td>\n",
       "      <td>4</td>\n",
       "      <td>1.67</td>\n",
       "      <td>SOINS DU VISAGE</td>\n",
       "      <td>VIS_SOIN LEVRES</td>\n",
       "      <td>VIS_JEUNE_ET_LEVRE</td>\n",
       "      <td>BAUME LEVR SENT FRAMBOISE 4G</td>\n",
       "      <td>984238969</td>\n",
       "    </tr>\n",
       "  </tbody>\n",
       "</table>\n",
       "</div>"
      ],
      "text/plain": [
       "         TICKET_ID  MOIS_VENTE  PRIX_NET          FAMILLE          UNIVERS  \\\n",
       "3549092   35221468           8     45.50  SOINS DU VISAGE   VIS_CNUIT AAAR   \n",
       "3549093   33758611           4      1.66  SOINS DU VISAGE  VIS_SOIN LEVRES   \n",
       "3549094   33758611           4      1.67  SOINS DU VISAGE  VIS_SOIN LEVRES   \n",
       "3549095   33758611           4      2.50  SOINS DU VISAGE  VIS_SOIN LEVRES   \n",
       "3549096   33758611           4      1.67  SOINS DU VISAGE  VIS_SOIN LEVRES   \n",
       "\n",
       "                            MAILLE                         LIBELLE     CLI_ID  \n",
       "3549092  VIS_AAAR_HORS_DEMAQLOTION  REPACK AR BIEN NUIT RC2 P 50ml  981961119  \n",
       "3549093         VIS_JEUNE_ET_LEVRE    BAUME LEVR SENT FRAMBOISE 4G  984238969  \n",
       "3549094         VIS_JEUNE_ET_LEVRE    BAUME LEVR SENT FRAMBOISE 4G  984238969  \n",
       "3549095         VIS_JEUNE_ET_LEVRE    BAUME LEVR SENT FRAMBOISE 4G  984238969  \n",
       "3549096         VIS_JEUNE_ET_LEVRE    BAUME LEVR SENT FRAMBOISE 4G  984238969  "
      ]
     },
     "execution_count": 14,
     "metadata": {},
     "output_type": "execute_result"
    }
   ],
   "source": [
    "df_client = df_all.loc[cluster]\n",
    "\n",
    "df_client.head()"
   ]
  },
  {
   "cell_type": "code",
   "execution_count": 15,
   "metadata": {},
   "outputs": [
    {
     "data": {
      "text/plain": [
       "1652841"
      ]
     },
     "execution_count": 15,
     "metadata": {},
     "output_type": "execute_result"
    }
   ],
   "source": [
    "df_client.shape[0]"
   ]
  },
  {
   "cell_type": "markdown",
   "metadata": {},
   "source": [
    "#### Remove already bought items (?)"
   ]
  },
  {
   "cell_type": "code",
   "execution_count": 16,
   "metadata": {},
   "outputs": [
    {
     "data": {
      "text/plain": [
       "1652636"
      ]
     },
     "execution_count": 16,
     "metadata": {},
     "output_type": "execute_result"
    }
   ],
   "source": [
    "try:\n",
    "    df_client = df_client[df_client[\"CLI_ID\"] != CLIENT_ID]\n",
    "except KeyError:\n",
    "    pass\n",
    "\n",
    "df_client.shape[0]"
   ]
  }
 ],
 "metadata": {
  "interpreter": {
   "hash": "43e36924b58f8cd90570cadf64910b0b6e9f78fcc0f6337d0f910a1e2cc0ed3d"
  },
  "kernelspec": {
   "display_name": "Python 3.9.7 64-bit ('venv': venv)",
   "language": "python",
   "name": "python3"
  },
  "language_info": {
   "codemirror_mode": {
    "name": "ipython",
    "version": 3
   },
   "file_extension": ".py",
   "mimetype": "text/x-python",
   "name": "python",
   "nbconvert_exporter": "python",
   "pygments_lexer": "ipython3",
   "version": "3.9.7"
  },
  "orig_nbformat": 4
 },
 "nbformat": 4,
 "nbformat_minor": 2
}
